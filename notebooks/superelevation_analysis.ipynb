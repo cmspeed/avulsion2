{
 "cells": [
  {
   "cell_type": "markdown",
   "metadata": {},
   "source": [
    "## Cross-set thickness and superelevation analysis\n",
    "This notebook reproduces analysis for estimating superelevation in [Speed et al., 2024](https://doi.org/10.1130/G52254.1) using measured cross-set thicknesses and channel base elevations. A distribution of dune heights and flow depths is computed from cross-set thickness measurements using empirical relationships of Leclair and Bridge (2001) and Bradley and Venditti (2017). Measurements of T1 and T2 channel thalweg elevations, as measuredwith high precision GPS in the field, are used to compute a distribution of superelevation values for the estimated bankfull flow depths. Cross-set thickness data are available in the project [Github repository](https://github.com/cmspeed/avulsion/), and paths in the notebook assume the user has cloned the repository and retained its original structure."
   ]
  },
  {
   "cell_type": "markdown",
   "metadata": {},
   "source": [
    "### Install necessary libraries\n",
    "Uncomment the next cell if library installation is needed."
   ]
  },
  {
   "cell_type": "code",
   "execution_count": 1,
   "metadata": {},
   "outputs": [],
   "source": [
    "### Install necessary libraries\n",
    "# pip install numpy pandas matplotlib seaborn"
   ]
  },
  {
   "cell_type": "markdown",
   "metadata": {},
   "source": [
    "### Library imports"
   ]
  },
  {
   "cell_type": "code",
   "execution_count": 2,
   "metadata": {},
   "outputs": [],
   "source": [
    "import numpy as np\n",
    "import pandas as pd\n",
    "import matplotlib.pyplot as plt\n",
    "import seaborn as sns\n",
    "\n",
    "# Ensure that text is saved as editable text objects\n",
    "plt.rcParams['font.size'] = 7 # Set default font size\n",
    "plt.rcParams['pdf.fonttype'] = 42  # Embed fonts as TrueType\n",
    "plt.rcParams['ps.fonttype'] = 42   # Embed fonts as TrueType\n",
    "plt.rcParams['font.family'] = 'Helvetica'"
   ]
  },
  {
   "cell_type": "markdown",
   "metadata": {},
   "source": [
    "### Read in cross-set thickness and paleocurrent data"
   ]
  },
  {
   "cell_type": "code",
   "execution_count": 3,
   "metadata": {},
   "outputs": [
    {
     "data": {
      "text/html": [
       "<div>\n",
       "<style scoped>\n",
       "    .dataframe tbody tr th:only-of-type {\n",
       "        vertical-align: middle;\n",
       "    }\n",
       "\n",
       "    .dataframe tbody tr th {\n",
       "        vertical-align: top;\n",
       "    }\n",
       "\n",
       "    .dataframe thead th {\n",
       "        text-align: right;\n",
       "    }\n",
       "</style>\n",
       "<table border=\"1\" class=\"dataframe\">\n",
       "  <thead>\n",
       "    <tr style=\"text-align: right;\">\n",
       "      <th></th>\n",
       "      <th>depth_m</th>\n",
       "      <th>xset_thickness_m</th>\n",
       "      <th>grainsize</th>\n",
       "      <th>paleocurrent</th>\n",
       "      <th>depth_m.1</th>\n",
       "      <th>xset_thickness_m.1</th>\n",
       "      <th>grainsize.1</th>\n",
       "      <th>paleocurrent.1</th>\n",
       "      <th>depth_m.2</th>\n",
       "      <th>xset_thickness_m.2</th>\n",
       "      <th>...</th>\n",
       "      <th>grainsize.6</th>\n",
       "      <th>paleocurrent.7</th>\n",
       "      <th>depth_m.8</th>\n",
       "      <th>xset_thickness_m.8</th>\n",
       "      <th>grainsize.7</th>\n",
       "      <th>paleocurrent.8</th>\n",
       "      <th>depth_m.9</th>\n",
       "      <th>xset_thickness_m.9</th>\n",
       "      <th>grainsize.8</th>\n",
       "      <th>paleocurrent.9</th>\n",
       "    </tr>\n",
       "  </thead>\n",
       "  <tbody>\n",
       "    <tr>\n",
       "      <th>0</th>\n",
       "      <td>0.0</td>\n",
       "      <td>NaN</td>\n",
       "      <td>md</td>\n",
       "      <td>NaN</td>\n",
       "      <td>0.0</td>\n",
       "      <td>NaN</td>\n",
       "      <td>NaN</td>\n",
       "      <td>NaN</td>\n",
       "      <td>0.0</td>\n",
       "      <td>0.4</td>\n",
       "      <td>...</td>\n",
       "      <td>m</td>\n",
       "      <td>NaN</td>\n",
       "      <td>0.0</td>\n",
       "      <td>NaN</td>\n",
       "      <td>m</td>\n",
       "      <td>NaN</td>\n",
       "      <td>0.0</td>\n",
       "      <td>NaN</td>\n",
       "      <td>slt</td>\n",
       "      <td>NaN</td>\n",
       "    </tr>\n",
       "    <tr>\n",
       "      <th>1</th>\n",
       "      <td>1.5</td>\n",
       "      <td>NaN</td>\n",
       "      <td>md</td>\n",
       "      <td>NaN</td>\n",
       "      <td>0.8</td>\n",
       "      <td>NaN</td>\n",
       "      <td>NaN</td>\n",
       "      <td>NaN</td>\n",
       "      <td>0.4</td>\n",
       "      <td>0.4</td>\n",
       "      <td>...</td>\n",
       "      <td>obsc</td>\n",
       "      <td>NaN</td>\n",
       "      <td>1.1</td>\n",
       "      <td>NaN</td>\n",
       "      <td>md</td>\n",
       "      <td>NaN</td>\n",
       "      <td>1.0</td>\n",
       "      <td>NaN</td>\n",
       "      <td>ped</td>\n",
       "      <td>NaN</td>\n",
       "    </tr>\n",
       "    <tr>\n",
       "      <th>2</th>\n",
       "      <td>2.1</td>\n",
       "      <td>NaN</td>\n",
       "      <td>vfs</td>\n",
       "      <td>NaN</td>\n",
       "      <td>1.4</td>\n",
       "      <td>NaN</td>\n",
       "      <td>NaN</td>\n",
       "      <td>NaN</td>\n",
       "      <td>0.6</td>\n",
       "      <td>NaN</td>\n",
       "      <td>...</td>\n",
       "      <td>slt</td>\n",
       "      <td>NaN</td>\n",
       "      <td>2.0</td>\n",
       "      <td>NaN</td>\n",
       "      <td>vf</td>\n",
       "      <td>NaN</td>\n",
       "      <td>2.2</td>\n",
       "      <td>NaN</td>\n",
       "      <td>slt</td>\n",
       "      <td>NaN</td>\n",
       "    </tr>\n",
       "    <tr>\n",
       "      <th>3</th>\n",
       "      <td>2.8</td>\n",
       "      <td>NaN</td>\n",
       "      <td>md</td>\n",
       "      <td>NaN</td>\n",
       "      <td>2.4</td>\n",
       "      <td>NaN</td>\n",
       "      <td>NaN</td>\n",
       "      <td>NaN</td>\n",
       "      <td>1.0</td>\n",
       "      <td>0.6</td>\n",
       "      <td>...</td>\n",
       "      <td>f</td>\n",
       "      <td>NaN</td>\n",
       "      <td>2.8</td>\n",
       "      <td>NaN</td>\n",
       "      <td>md</td>\n",
       "      <td>NaN</td>\n",
       "      <td>4.5</td>\n",
       "      <td>NaN</td>\n",
       "      <td>ped</td>\n",
       "      <td>NaN</td>\n",
       "    </tr>\n",
       "    <tr>\n",
       "      <th>4</th>\n",
       "      <td>3.1</td>\n",
       "      <td>NaN</td>\n",
       "      <td>pedc</td>\n",
       "      <td>NaN</td>\n",
       "      <td>2.7</td>\n",
       "      <td>NaN</td>\n",
       "      <td>NaN</td>\n",
       "      <td>NaN</td>\n",
       "      <td>1.6</td>\n",
       "      <td>0.5</td>\n",
       "      <td>...</td>\n",
       "      <td>mL</td>\n",
       "      <td>NaN</td>\n",
       "      <td>4.0</td>\n",
       "      <td>NaN</td>\n",
       "      <td>obs</td>\n",
       "      <td>NaN</td>\n",
       "      <td>5.2</td>\n",
       "      <td>0.2</td>\n",
       "      <td>m</td>\n",
       "      <td>NaN</td>\n",
       "    </tr>\n",
       "  </tbody>\n",
       "</table>\n",
       "<p>5 rows × 40 columns</p>\n",
       "</div>"
      ],
      "text/plain": [
       "   depth_m  xset_thickness_m grainsize paleocurrent  depth_m.1  \\\n",
       "0      0.0               NaN        md          NaN        0.0   \n",
       "1      1.5               NaN        md          NaN        0.8   \n",
       "2      2.1               NaN       vfs          NaN        1.4   \n",
       "3      2.8               NaN        md          NaN        2.4   \n",
       "4      3.1               NaN      pedc          NaN        2.7   \n",
       "\n",
       "   xset_thickness_m.1 grainsize.1 paleocurrent.1  depth_m.2  \\\n",
       "0                 NaN         NaN            NaN        0.0   \n",
       "1                 NaN         NaN            NaN        0.4   \n",
       "2                 NaN         NaN            NaN        0.6   \n",
       "3                 NaN         NaN            NaN        1.0   \n",
       "4                 NaN         NaN            NaN        1.6   \n",
       "\n",
       "   xset_thickness_m.2  ... grainsize.6 paleocurrent.7  depth_m.8  \\\n",
       "0                 0.4  ...           m            NaN        0.0   \n",
       "1                 0.4  ...        obsc            NaN        1.1   \n",
       "2                 NaN  ...         slt            NaN        2.0   \n",
       "3                 0.6  ...           f            NaN        2.8   \n",
       "4                 0.5  ...          mL            NaN        4.0   \n",
       "\n",
       "   xset_thickness_m.8 grainsize.7 paleocurrent.8  depth_m.9  \\\n",
       "0                 NaN           m            NaN        0.0   \n",
       "1                 NaN          md            NaN        1.0   \n",
       "2                 NaN          vf            NaN        2.2   \n",
       "3                 NaN          md            NaN        4.5   \n",
       "4                 NaN         obs            NaN        5.2   \n",
       "\n",
       "   xset_thickness_m.9 grainsize.8 paleocurrent.9  \n",
       "0                 NaN         slt            NaN  \n",
       "1                 NaN         ped            NaN  \n",
       "2                 NaN         slt            NaN  \n",
       "3                 NaN         ped            NaN  \n",
       "4                 0.2           m            NaN  \n",
       "\n",
       "[5 rows x 40 columns]"
      ]
     },
     "execution_count": 3,
     "metadata": {},
     "output_type": "execute_result"
    }
   ],
   "source": [
    "## Read in paleocurrent data\n",
    "data = pd.read_excel('../field_data/measurements/bed_thicknesses_and_xsection_paleocurrents.xlsx', sheet_name='set_thicknesses_&_paleocurrents', skiprows=1)\n",
    "data.head()"
   ]
  },
  {
   "cell_type": "markdown",
   "metadata": {},
   "source": [
    "### Create an array of cross-set thicknesses"
   ]
  },
  {
   "cell_type": "code",
   "execution_count": 4,
   "metadata": {},
   "outputs": [
    {
     "name": "stdout",
     "output_type": "stream",
     "text": [
      "total cross-set thickness measurements: 222\n"
     ]
    }
   ],
   "source": [
    "thickness_columns = [col for col in data.columns if col.startswith('xset_thickness_m')]\n",
    "thickness_array = np.array([])\n",
    "for col in thickness_columns:\n",
    "    non_nan_values = data[col].dropna().values.astype(float)\n",
    "    thickness_array = np.concatenate([thickness_array, non_nan_values])\n",
    "print('total cross-set thickness measurements:', len(thickness_array))"
   ]
  },
  {
   "cell_type": "markdown",
   "metadata": {},
   "source": [
    "### Compute a distribution of possible dune heights and flow depths\n",
    "Below, we apply the (1) cross-set thickness to dune height relationship of Leclair and Bridge (2001) and (2) dune height to flow depth relationship in shallow rivers of Bradley and Venditti (2017). This results in a distribution of dune height and flow depths base of the 222 cross-set thickness measurements."
   ]
  },
  {
   "cell_type": "code",
   "execution_count": 5,
   "metadata": {},
   "outputs": [
    {
     "name": "stdout",
     "output_type": "stream",
     "text": [
      "---------------------------\n",
      "DUNE HEIGHT\n",
      "minimum dune height: 0.11 m\n",
      "maximum dune height: 3.60 m\n",
      "median dune height: 0.58 m\n",
      "mean dune height: 0.75\n",
      "standard deviation of mean dune height: 0.67 m\n",
      "---------------------------\n",
      "DEPTH\n",
      "minimum depth: 0.31 m\n",
      "maximum depth: 35.64 m\n",
      "median depth: 2.31 m\n",
      "mean depth: 4.04\n",
      "standard deviation of mean depth: 4.85 m\n"
     ]
    }
   ],
   "source": [
    "d_vals = []\n",
    "H_vals = []\n",
    "for t in thickness_array:\n",
    "        h_vals = [] \n",
    "        h_low = 2.2*t\n",
    "        h_mean = 2.9*t\n",
    "        h_high = 3.6*t\n",
    "        h_vals.extend([h_low,h_mean,h_high])\n",
    "        H_vals.append(h_vals)\n",
    "        for h_val in h_vals:\n",
    "            d_low = 2.8*h_val\n",
    "            d_mean = 3.5*h_val\n",
    "            d_high = 9.9*h_val\n",
    "            d_vals.extend([d_low,d_mean,d_high])\n",
    "H_vals_array = np.asarray(H_vals).flatten()\n",
    "d_vals_array = np.asarray(d_vals)\n",
    "\n",
    "print(\"---------------------------\")\n",
    "print(\"DUNE HEIGHT\")\n",
    "print(f\"minimum dune height: {np.min(H_vals_array):.2f} m\")\n",
    "print(f\"maximum dune height: {np.max(H_vals_array):.2f} m\")\n",
    "print(f\"median dune height: {np.median(H_vals_array):.2f} m\")\n",
    "print(f\"mean dune height: {np.mean(H_vals_array):.2f}\")\n",
    "print(f\"standard deviation of mean dune height: {np.std(H_vals_array):.2f} m\")\n",
    "\n",
    "print(\"---------------------------\")\n",
    "print(\"DEPTH\")\n",
    "print(f\"minimum depth: {np.min(d_vals_array):.2f} m\")\n",
    "print(f\"maximum depth: {np.max(d_vals_array):.2f} m\")\n",
    "print(f\"median depth: {np.median(d_vals_array):.2f} m\")\n",
    "print(f\"mean depth: {np.mean(d_vals_array):.2f}\")\n",
    "print(f\"standard deviation of mean depth: {np.std(d_vals_array):.2f} m\")"
   ]
  },
  {
   "cell_type": "markdown",
   "metadata": {},
   "source": [
    "### Compute the 50% and 90% confidence intervals for dune height and channel depth"
   ]
  },
  {
   "cell_type": "code",
   "execution_count": 6,
   "metadata": {},
   "outputs": [
    {
     "name": "stdout",
     "output_type": "stream",
     "text": [
      "The 50% confidence interval for dune height is: [0.36 0.87] m.\n",
      "The 90% confidence interval for dune height is: [0.18 2.2 ] m.\n"
     ]
    }
   ],
   "source": [
    "# Calculate 50% and 90% confidence intervals for dune height\n",
    "confidence_interval_50_DH = np.percentile(H_vals_array, [25, 75])\n",
    "confidence_interval_90_DH = np.percentile(H_vals_array, [5, 95])\n",
    "print('The 50% confidence interval for dune height is:', confidence_interval_50_DH, 'm.')\n",
    "print('The 90% confidence interval for dune height is:', confidence_interval_90_DH, 'm.')"
   ]
  },
  {
   "cell_type": "code",
   "execution_count": 7,
   "metadata": {},
   "outputs": [
    {
     "name": "stdout",
     "output_type": "stream",
     "text": [
      "The 50% confidence interval for depth is: [1.26 5.04] m.\n",
      "The 90% confidence interval for depth is: [ 0.616 12.6  ] m.\n"
     ]
    }
   ],
   "source": [
    "# Calculate 50% and 90% confidence intervals for depth\n",
    "confidence_interval_50_depth = np.percentile(d_vals_array, [25, 75])\n",
    "confidence_interval_90_depth = np.percentile(d_vals_array, [5, 95])\n",
    "print('The 50% confidence interval for depth is:', confidence_interval_50_depth, 'm.')\n",
    "print('The 90% confidence interval for depth is:', confidence_interval_90_depth, 'm.')"
   ]
  },
  {
   "cell_type": "markdown",
   "metadata": {},
   "source": [
    "### Plot the distribution of dune height and corresponding bankfull depths"
   ]
  },
  {
   "cell_type": "code",
   "execution_count": 8,
   "metadata": {},
   "outputs": [
    {
     "data": {
      "image/png": "[encoded data removed]",
      "text/plain": [
       "<Figure size 800x300 with 2 Axes>"
      ]
     },
     "metadata": {},
     "output_type": "display_data"
    }
   ],
   "source": [
    "fig, ax = plt.subplots(1, 2, figsize=(8,3))\n",
    "sns.histplot(H_vals_array,bins=10, kde=False, color=(0.5, 0.5, 0.5), ax  = ax[0],linewidth=1)\n",
    "ax[0].axvline(confidence_interval_50_DH[0], color='black', linestyle='dashed', linewidth=1, label='50% CI')\n",
    "ax[0].axvline(confidence_interval_50_DH[1], color='black', linestyle='dashed', linewidth=1)\n",
    "ax[0].axvline(confidence_interval_90_DH[0], color='grey', linestyle='dotted', linewidth=1, label='90% CI')\n",
    "ax[0].axvline(confidence_interval_90_DH[1], color='grey', linestyle='dotted', linewidth=1)\n",
    "ax[0].axvline(np.percentile(H_vals_array, 50), color='darkorange', linestyle='solid', label=f'p50 = {np.percentile(H_vals_array, 50):.2f} m')\n",
    "ax[0].set_xlabel('Dune Height (m)')\n",
    "ax[0].set_ylabel('Frequency')\n",
    "\n",
    "sns.histplot(d_vals_array, bins=10, color = [0.8, 0.8,0.8], ax = ax[1])\n",
    "ax[1].axvline(confidence_interval_50_depth[0], color='black', linestyle='dashed', linewidth=1, label='50% CI')\n",
    "ax[1].axvline(confidence_interval_50_depth[1], color='black', linestyle='dashed', linewidth=1)\n",
    "ax[1].axvline(confidence_interval_90_depth[0], color='grey', linestyle='dotted', linewidth=1, label='90% CI')\n",
    "ax[1].axvline(confidence_interval_90_depth[1], color='grey', linestyle='dotted', linewidth=1)\n",
    "ax[1].axvline(np.percentile(d_vals_array, 50), color='darkorange', linestyle='solid', label=f'p50 = {np.percentile(d_vals_array, 50):.2f} m')\n",
    "ax[1].set_xlabel('Bankfull Depth (m)')\n",
    "ax[1].set_ylabel('')\n",
    "\n",
    "ax[0].legend(fontsize='medium')\n",
    "ax[1].legend(fontsize='medium')\n",
    "\n",
    "plt.tight_layout()"
   ]
  },
  {
   "cell_type": "markdown",
   "metadata": {},
   "source": [
    "## Superelevation analysis\n",
    "\n",
    "Superelevation ($SE$) is computed using the following equation:\n",
    "$$SE = \\frac{WS_{Elev}}{H} = \\frac{\\Delta CFC_{Elev} + H - E}{H}$$\n",
    "\n",
    "\n",
    "where $WS_{Elev}$ is the elevation of the water surface at bankfull flow above the lowest position on the adjacent floodplain, $H$ is bankfull flow depth, $∆CFC_{Elev}$ is the measured elevation offset between T1 and T2 channel-floodplain contacts at the channel thalweg, and $E$ is a magnitude of vertical erosion into the floodplain that occurs during avulsion. We use the distribution of estimated bankful depths ($H$) computed above and measured offset between channel-floodplain contacts ($CFCs$) below the T1 and T2 channel thalwegs.  $CFCs$ were corrected for structural dip of 1.5/006. E was not measured directly; rather, we compute $SE$ for $E$ values from 0 to $H$ to produce a distribution of possible values of $SE$ given the observed CFC configuration."
   ]
  },
  {
   "cell_type": "markdown",
   "metadata": {},
   "source": [
    "### Read in channel base measurements\n",
    "This dataframe contains two elevations of the T1 channel base and one mean elevation of of the floodplain below T2, which we interpret as the T1 floodplain surface.\n",
    "The elevations in 'measured_m' are the structurally uncorrected values. The values in 'bestfit_m' are the values on the bestfit plane derived from the lidar dataset. 'untilted' are the structurally corrected values"
   ]
  },
  {
   "cell_type": "code",
   "execution_count": 9,
   "metadata": {},
   "outputs": [
    {
     "data": {
      "text/html": [
       "<div>\n",
       "<style scoped>\n",
       "    .dataframe tbody tr th:only-of-type {\n",
       "        vertical-align: middle;\n",
       "    }\n",
       "\n",
       "    .dataframe tbody tr th {\n",
       "        vertical-align: top;\n",
       "    }\n",
       "\n",
       "    .dataframe thead th {\n",
       "        text-align: right;\n",
       "    }\n",
       "</style>\n",
       "<table border=\"1\" class=\"dataframe\">\n",
       "  <thead>\n",
       "    <tr style=\"text-align: right;\">\n",
       "      <th></th>\n",
       "      <th>CFC</th>\n",
       "      <th>Channel</th>\n",
       "      <th>Longitude</th>\n",
       "      <th>Latitude</th>\n",
       "      <th>X_EPSG2691</th>\n",
       "      <th>Y_EPSG2691</th>\n",
       "      <th>Ellipsoid_H_m</th>\n",
       "      <th>Easting_RMS_m</th>\n",
       "      <th>Northing_RMS_m</th>\n",
       "      <th>Elevation_RMS_m</th>\n",
       "      <th>Lateral_RMS_m</th>\n",
       "      <th>Solution</th>\n",
       "      <th>Samples</th>\n",
       "      <th>Plane_Elev_m</th>\n",
       "      <th>Relief_m</th>\n",
       "    </tr>\n",
       "  </thead>\n",
       "  <tbody>\n",
       "    <tr>\n",
       "      <th>0</th>\n",
       "      <td>1</td>\n",
       "      <td>T1</td>\n",
       "      <td>-110.271720</td>\n",
       "      <td>38.874743</td>\n",
       "      <td>563174.579</td>\n",
       "      <td>4303128.409</td>\n",
       "      <td>1354.317</td>\n",
       "      <td>0.005</td>\n",
       "      <td>0.006</td>\n",
       "      <td>0.012</td>\n",
       "      <td>0.007</td>\n",
       "      <td>FIX</td>\n",
       "      <td>194</td>\n",
       "      <td>1312.302612</td>\n",
       "      <td>42.014388</td>\n",
       "    </tr>\n",
       "    <tr>\n",
       "      <th>1</th>\n",
       "      <td>5</td>\n",
       "      <td>T2</td>\n",
       "      <td>-110.272071</td>\n",
       "      <td>38.876857</td>\n",
       "      <td>563142.235</td>\n",
       "      <td>4303362.788</td>\n",
       "      <td>1348.452</td>\n",
       "      <td>0.024</td>\n",
       "      <td>0.013</td>\n",
       "      <td>0.017</td>\n",
       "      <td>0.027</td>\n",
       "      <td>FIX</td>\n",
       "      <td>221</td>\n",
       "      <td>1306.223999</td>\n",
       "      <td>42.228001</td>\n",
       "    </tr>\n",
       "    <tr>\n",
       "      <th>2</th>\n",
       "      <td>8</td>\n",
       "      <td>T1</td>\n",
       "      <td>-110.270038</td>\n",
       "      <td>38.876667</td>\n",
       "      <td>563318.813</td>\n",
       "      <td>4303343.114</td>\n",
       "      <td>1349.116</td>\n",
       "      <td>0.008</td>\n",
       "      <td>0.009</td>\n",
       "      <td>0.017</td>\n",
       "      <td>0.013</td>\n",
       "      <td>FIX</td>\n",
       "      <td>222</td>\n",
       "      <td>1306.309326</td>\n",
       "      <td>42.806674</td>\n",
       "    </tr>\n",
       "    <tr>\n",
       "      <th>3</th>\n",
       "      <td>9</td>\n",
       "      <td>T1</td>\n",
       "      <td>-110.268990</td>\n",
       "      <td>38.877154</td>\n",
       "      <td>563409.227</td>\n",
       "      <td>4303397.867</td>\n",
       "      <td>1347.553</td>\n",
       "      <td>0.007</td>\n",
       "      <td>0.016</td>\n",
       "      <td>0.016</td>\n",
       "      <td>0.018</td>\n",
       "      <td>FIX</td>\n",
       "      <td>240</td>\n",
       "      <td>1304.674927</td>\n",
       "      <td>42.878073</td>\n",
       "    </tr>\n",
       "  </tbody>\n",
       "</table>\n",
       "</div>"
      ],
      "text/plain": [
       "   CFC Channel   Longitude   Latitude  X_EPSG2691   Y_EPSG2691  Ellipsoid_H_m  \\\n",
       "0    1      T1 -110.271720  38.874743  563174.579  4303128.409       1354.317   \n",
       "1    5      T2 -110.272071  38.876857  563142.235  4303362.788       1348.452   \n",
       "2    8      T1 -110.270038  38.876667  563318.813  4303343.114       1349.116   \n",
       "3    9      T1 -110.268990  38.877154  563409.227  4303397.867       1347.553   \n",
       "\n",
       "   Easting_RMS_m  Northing_RMS_m  Elevation_RMS_m  Lateral_RMS_m Solution  \\\n",
       "0          0.005           0.006            0.012          0.007      FIX   \n",
       "1          0.024           0.013            0.017          0.027      FIX   \n",
       "2          0.008           0.009            0.017          0.013      FIX   \n",
       "3          0.007           0.016            0.016          0.018      FIX   \n",
       "\n",
       "   Samples  Plane_Elev_m   Relief_m  \n",
       "0      194   1312.302612  42.014388  \n",
       "1      221   1306.223999  42.228001  \n",
       "2      222   1306.309326  42.806674  \n",
       "3      240   1304.674927  42.878073  "
      ]
     },
     "execution_count": 9,
     "metadata": {},
     "output_type": "execute_result"
    }
   ],
   "source": [
    "CFC_data = pd.read_csv('../field_data/GPS/CFCs/CFCs_pp_detrended_for_SE.csv')\n",
    "CFC_data.head()"
   ]
  },
  {
   "cell_type": "code",
   "execution_count": 10,
   "metadata": {},
   "outputs": [
    {
     "name": "stdout",
     "output_type": "stream",
     "text": [
      "T1 thalweg is 0.34 m above T2 thalweg.\n"
     ]
    }
   ],
   "source": [
    "t1_thalweg_elev = CFC_data[CFC_data['Channel'] == 'T1']['Relief_m']\n",
    "t2_thalweg_elev = CFC_data[CFC_data['Channel'] == 'T2']['Relief_m']\n",
    "thalweg_offset = np.mean(t1_thalweg_elev) - np.mean(t2_thalweg_elev)\n",
    "print(f'T1 thalweg is {thalweg_offset:.2f} m above T2 thalweg.')"
   ]
  },
  {
   "cell_type": "code",
   "execution_count": 11,
   "metadata": {},
   "outputs": [],
   "source": [
    "SE = []\n",
    "erosion_values = np.linspace(0, 2.31, num = 10)\n",
    "for H in d_vals_array:\n",
    "    for E in erosion_values:\n",
    "        WSE = thalweg_offset + H - E\n",
    "        se = WSE/H\n",
    "        SE.append(se)\n",
    "\n",
    "SE_array = np.asarray(SE)"
   ]
  },
  {
   "cell_type": "code",
   "execution_count": 12,
   "metadata": {},
   "outputs": [
    {
     "name": "stdout",
     "output_type": "stream",
     "text": [
      "median SE is: 0.76\n",
      "50% CI is: [0.33, 0.95]\n",
      "90% CI is: [-0.87, 1.16]\n"
     ]
    }
   ],
   "source": [
    "# Calculate 50% and 90% confidence intervals for SE \n",
    "confidence_interval_SE_50 = np.percentile(SE_array, [25, 75])\n",
    "confidence_interval_SE_90 = np.percentile(SE_array, [5, 95])\n",
    "\n",
    "# Format and print the confidence intervals with two decimal places\n",
    "print(f'median SE is: {np.percentile(SE_array, 50):.2f}')\n",
    "print(f'50% CI is: [{confidence_interval_SE_50[0]:.2f}, {confidence_interval_SE_50[1]:.2f}]')\n",
    "print(f'90% CI is: [{confidence_interval_SE_90[0]:.2f}, {confidence_interval_SE_90[1]:.2f}]')"
   ]
  },
  {
   "cell_type": "code",
   "execution_count": 13,
   "metadata": {},
   "outputs": [
    {
     "data": {
      "image/png": "[encoded data removed]",
      "text/plain": [
       "<Figure size 700x400 with 4 Axes>"
      ]
     },
     "metadata": {},
     "output_type": "display_data"
    }
   ],
   "source": [
    "fig, ax = plt.subplots(2, 2, figsize=(7,4))\n",
    "\n",
    "colors = ['#FFB6C1', '#AEC6CF', '#77DD77', '#FFFACD']\n",
    "\n",
    "sns.histplot(thickness_array, bins = 10, kde=False,ax= ax[0,0], color = colors[0], linewidth = 1)\n",
    "ax[0,0].set_ylabel('Frequency')\n",
    "ax[0,0].set_xlabel('Cross-set thickness (m)')\n",
    "ax[0,0].set_xlim([0,1])\n",
    "ax[0,0].set_xticks([0, 0.25, 0.50, 0.75, 1.0])\n",
    "\n",
    "sns.histplot(H_vals_array,bins = 10, kde=False, color=colors[1], ax  = ax[0,1],linewidth=1)\n",
    "ax[0,1].axvline(confidence_interval_50_DH[0], color='black', linestyle='dashed', linewidth=1, label='50% CI')\n",
    "ax[0,1].axvline(confidence_interval_50_DH[1], color='black', linestyle='dashed', linewidth=1)\n",
    "ax[0,1].axvline(confidence_interval_90_DH[0], color='grey', linestyle='dotted', linewidth=1, label='90% CI')\n",
    "ax[0,1].axvline(confidence_interval_90_DH[1], color='grey', linestyle='dotted', linewidth=1)\n",
    "ax[0,1].axvline(np.percentile(H_vals_array, 50), color='darkorange', linestyle='solid', label=f'p50 = {np.percentile(H_vals_array, 50):.2f} m')\n",
    "ax[0,1].set_xlabel('Dune Height (m)')\n",
    "ax[0,1].set_ylabel('')\n",
    "\n",
    "sns.histplot(d_vals_array,bins = 25, kde=False, color=colors[2], ax  = ax[1,0],linewidth=1)\n",
    "ax[1,0].axvline(confidence_interval_50_depth[0], color='black', linestyle='dashed', linewidth=1, label='50% CI')\n",
    "ax[1,0].axvline(confidence_interval_50_depth[1], color='black', linestyle='dashed', linewidth=1)\n",
    "ax[1,0].axvline(confidence_interval_90_depth[0], color='grey', linestyle='dotted', linewidth=1, label='90% CI')\n",
    "ax[1,0].axvline(confidence_interval_90_depth[1], color='grey', linestyle='dotted', linewidth=1)\n",
    "ax[1,0].axvline(np.percentile(d_vals_array, 50), color='darkorange', linestyle='solid', label=f'p50 = {np.percentile(d_vals_array, 50):.2f} m')\n",
    "ax[1,0].set_xlabel('Channel Depth (m)')\n",
    "ax[1,0].set_ylabel('Frequency')\n",
    "ax[1,0].set_ylim([0,1000])\n",
    "ax[1,0].set_xlim([0,15])\n",
    "ax[1,0].set_xticks([0, 5, 10, 15])\n",
    "\n",
    "sns.histplot(SE_array, bins=10, color=colors[3], ax = ax[1,1])\n",
    "ax[1,1].axvline(confidence_interval_SE_50[0], color='black', linestyle='dashed', linewidth=1, label='50% CI')\n",
    "ax[1,1].axvline(confidence_interval_SE_50[1], color='black', linestyle='dashed', linewidth=1)\n",
    "ax[1,1].axvline(confidence_interval_SE_90[0], color='grey', linestyle='dotted', linewidth=1, label='90% CI')\n",
    "ax[1,1].axvline(confidence_interval_SE_90[1], color='grey', linestyle='dotted', linewidth=1)\n",
    "ax[1,1].axvline(np.percentile(SE_array, 50), color='darkorange', linestyle='solid', label=f'p50 = {np.percentile(SE_array, 50):.2f}')\n",
    "#ax[1,1].set_ylim([0,1000])\n",
    "\n",
    "ax[1,1].set_xlabel('Superelevation (unitless)')\n",
    "ax[1,1].set_ylabel('')\n",
    "\n",
    "ax[0,1].legend(fontsize='medium', loc='upper right')\n",
    "ax[1,0].legend(fontsize='medium', loc='upper right')\n",
    "ax[1,1].legend(fontsize='medium', loc='upper left')\n",
    "\n",
    "plt.tight_layout()"
   ]
  }
 ],
 "metadata": {
  "kernelspec": {
   "display_name": "meandergraph",
   "language": "python",
   "name": "python3"
  },
  "language_info": {
   "codemirror_mode": {
    "name": "ipython",
    "version": 3
   },
   "file_extension": ".py",
   "mimetype": "text/x-python",
   "name": "python",
   "nbconvert_exporter": "python",
   "pygments_lexer": "ipython3",
   "version": "3.11.5"
  }
 },
 "nbformat": 4,
 "nbformat_minor": 2
}
